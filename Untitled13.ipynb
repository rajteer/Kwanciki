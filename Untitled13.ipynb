{
  "nbformat": 4,
  "nbformat_minor": 0,
  "metadata": {
    "colab": {
      "name": "Untitled13.ipynb",
      "provenance": [],
      "include_colab_link": true
    },
    "kernelspec": {
      "name": "python3",
      "display_name": "Python 3"
    },
    "language_info": {
      "name": "python"
    }
  },
  "cells": [
    {
      "cell_type": "markdown",
      "metadata": {
        "id": "view-in-github",
        "colab_type": "text"
      },
      "source": [
        "<a href=\"https://colab.research.google.com/github/rajteer/Kwanciki/blob/main/Untitled13.ipynb\" target=\"_parent\"><img src=\"https://colab.research.google.com/assets/colab-badge.svg\" alt=\"Open In Colab\"/></a>"
      ]
    },
    {
      "cell_type": "markdown",
      "metadata": {
        "id": "38I0GcejzmJC"
      },
      "source": [
        "# Dwuwymiarowa studnia potencjału"
      ]
    },
    {
      "cell_type": "code",
      "metadata": {
        "id": "PdWsHodqVRWE",
        "colab": {
          "base_uri": "https://localhost:8080/"
        },
        "outputId": "684b1bd4-b6a8-4265-af89-936cf73b1cba"
      },
      "source": [
        "import numpy as np\n",
        "print('''\\t  o\n",
        "\\t/| |\\ \n",
        "\\t / \\\\\n",
        "''')"
      ],
      "execution_count": 25,
      "outputs": [
        {
          "output_type": "stream",
          "text": [
            "\t  o\n",
            "\t/| |\\ \n",
            "\t / \\\n",
            "\n"
          ],
          "name": "stdout"
        }
      ]
    }
  ]
}