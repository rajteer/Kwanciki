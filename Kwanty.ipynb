{
  "nbformat": 4,
  "nbformat_minor": 0,
  "metadata": {
    "colab": {
      "name": "Kwanty.ipynb",
      "provenance": [],
      "include_colab_link": true
    },
    "kernelspec": {
      "name": "python3",
      "display_name": "Python 3"
    },
    "language_info": {
      "name": "python"
    }
  },
  "cells": [
    {
      "cell_type": "markdown",
      "metadata": {
        "id": "view-in-github",
        "colab_type": "text"
      },
      "source": [
        "<a href=\"https://colab.research.google.com/github/rajteer/Kwanciki/blob/main/Kwanty.ipynb\" target=\"_parent\"><img src=\"https://colab.research.google.com/assets/colab-badge.svg\" alt=\"Open In Colab\"/></a>"
      ]
    },
    {
      "cell_type": "markdown",
      "metadata": {
        "id": "38I0GcejzmJC"
      },
      "source": [
        "# Dwuwymiarowa studnia potencjału"
      ]
    },
    {
      "cell_type": "code",
      "metadata": {
        "id": "PdWsHodqVRWE",
        "colab": {
          "base_uri": "https://localhost:8080/"
        },
        "outputId": "5885584f-31c0-4d11-e04f-00e842f6cfd0"
      },
      "source": [
        "import numpy as np\n",
        "print(\":)\")"
      ],
      "execution_count": null,
      "outputs": [
        {
          "output_type": "stream",
          "text": [
            ":)\n"
          ],
          "name": "stdout"
        }
      ]
    }
  ]
}