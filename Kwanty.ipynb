{
  "nbformat": 4,
  "nbformat_minor": 0,
  "metadata": {
    "colab": {
      "name": "Kwanty.ipynb",
      "provenance": []
    },
    "kernelspec": {
      "name": "python3",
      "display_name": "Python 3"
    },
    "language_info": {
      "name": "python"
    }
  },
  "cells": [
    {
      "cell_type": "markdown",
      "metadata": {
        "id": "38I0GcejzmJC"
      },
      "source": [
        "# Dwuwymiarowa studnia potencjału"
      ]
    },
    {
      "cell_type": "code",
      "metadata": {
        "id": "PdWsHodqVRWE",
        "colab": {
          "base_uri": "https://localhost:8080/"
        },
        "outputId": "5885584f-31c0-4d11-e04f-00e842f6cfd0"
      },
      "source": [
        "import numpy as np\n",
        "print(\":)\")"
      ],
      "execution_count": 26,
      "outputs": [
        {
          "output_type": "stream",
          "text": [
            ":)\n"
          ],
          "name": "stdout"
        }
      ]
    }
  ]
}